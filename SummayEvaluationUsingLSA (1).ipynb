{
  "nbformat": 4,
  "nbformat_minor": 0,
  "metadata": {
    "colab": {
      "provenance": []
    },
    "kernelspec": {
      "name": "python3",
      "display_name": "Python 3"
    },
    "language_info": {
      "name": "python"
    },
    "accelerator": "TPU"
  },
  "cells": [
    {
      "cell_type": "markdown",
      "source": [
        "# Implementation of evaluation approaches that based on LSA to evaluate the quality of summary by comparing the summary to its full text from an angle of main topics. "
      ],
      "metadata": {
        "id": "_1fjJZQT-n6T"
      }
    },
    {
      "cell_type": "code",
      "execution_count": 1,
      "metadata": {
        "colab": {
          "base_uri": "https://localhost:8080/"
        },
        "id": "cR7YfVSNvMjT",
        "outputId": "24093ecf-2164-4cff-f340-c2d3a8a65c21"
      },
      "outputs": [
        {
          "output_type": "stream",
          "name": "stderr",
          "text": [
            "[nltk_data] Downloading package punkt to /root/nltk_data...\n",
            "[nltk_data]   Unzipping tokenizers/punkt.zip.\n",
            "[nltk_data] Downloading package stopwords to /root/nltk_data...\n",
            "[nltk_data]   Unzipping corpora/stopwords.zip.\n"
          ]
        }
      ],
      "source": [
        "#import libraries \n",
        "import numpy as np\n",
        "import pandas as pd\n",
        "import nltk\n",
        "from nltk.tokenize import sent_tokenize\n",
        "nltk.download('punkt') # one time execution\n",
        "import re\n",
        "import nltk\n",
        "nltk.download('stopwords')\n",
        "from nltk.corpus import stopwords\n",
        "stop_words = stopwords.words('english')\n",
        "from sklearn.metrics.pairwise import cosine_similarity"
      ]
    },
    {
      "cell_type": "code",
      "source": [
        "!pip install stem\n",
        "!pip install stemming"
      ],
      "metadata": {
        "colab": {
          "base_uri": "https://localhost:8080/"
        },
        "id": "rSEg_0Is-ewo",
        "outputId": "4a9e5aae-6db4-41c2-c1ee-6df22b0f2ee3"
      },
      "execution_count": 2,
      "outputs": [
        {
          "output_type": "stream",
          "name": "stdout",
          "text": [
            "Looking in indexes: https://pypi.org/simple, https://us-python.pkg.dev/colab-wheels/public/simple/\n",
            "Collecting stem\n",
            "  Downloading stem-1.8.1.tar.gz (2.9 MB)\n",
            "\u001b[2K     \u001b[90m━━━━━━━━━━━━━━━━━━━━━━━━━━━━━━━━━━━━━━━━\u001b[0m \u001b[32m2.9/2.9 MB\u001b[0m \u001b[31m27.2 MB/s\u001b[0m eta \u001b[36m0:00:00\u001b[0m\n",
            "\u001b[?25h  Preparing metadata (setup.py) ... \u001b[?25l\u001b[?25hdone\n",
            "Building wheels for collected packages: stem\n",
            "  Building wheel for stem (setup.py) ... \u001b[?25l\u001b[?25hdone\n",
            "  Created wheel for stem: filename=stem-1.8.1-py3-none-any.whl size=436323 sha256=ae0befc238da7002a64e52c19d58107d26da6ca8e4ea1163dd1717cdc77057dd\n",
            "  Stored in directory: /root/.cache/pip/wheels/62/e0/c4/41321ddf38be53fbc18a4d739edaef12f79a29e69920d3270d\n",
            "Successfully built stem\n",
            "Installing collected packages: stem\n",
            "Successfully installed stem-1.8.1\n",
            "Looking in indexes: https://pypi.org/simple, https://us-python.pkg.dev/colab-wheels/public/simple/\n",
            "Collecting stemming\n",
            "  Downloading stemming-1.0.1.zip (13 kB)\n",
            "  Preparing metadata (setup.py) ... \u001b[?25l\u001b[?25hdone\n",
            "Building wheels for collected packages: stemming\n",
            "  Building wheel for stemming (setup.py) ... \u001b[?25l\u001b[?25hdone\n",
            "  Created wheel for stemming: filename=stemming-1.0.1-py3-none-any.whl size=11138 sha256=f825a1e10fd74707024db57623f64b5b96f079bda0e4652742ee88655f6d3c94\n",
            "  Stored in directory: /root/.cache/pip/wheels/f2/0b/55/79a72cbd09e43a158ceec6a4260a3527b72e265b984e2838bb\n",
            "Successfully built stemming\n",
            "Installing collected packages: stemming\n",
            "Successfully installed stemming-1.0.1\n"
          ]
        }
      ]
    },
    {
      "cell_type": "code",
      "source": [
        "from stemming.porter2 import stem"
      ],
      "metadata": {
        "id": "2CNe1Kf4-j3j"
      },
      "execution_count": 3,
      "outputs": []
    },
    {
      "cell_type": "code",
      "source": [
        "from google.colab import drive\n",
        "drive.mount('/content/drive')"
      ],
      "metadata": {
        "colab": {
          "base_uri": "https://localhost:8080/"
        },
        "id": "U18vcwFivc4c",
        "outputId": "ab514e8a-e66f-4681-84c4-2f6163ed3523"
      },
      "execution_count": 4,
      "outputs": [
        {
          "output_type": "stream",
          "name": "stdout",
          "text": [
            "Mounted at /content/drive\n"
          ]
        }
      ]
    },
    {
      "cell_type": "code",
      "source": [
        "data = pd.read_csv('/content/drive/MyDrive/Tweets.csv') \n",
        "data = data[['text','airline_sentiment', 'airline']]"
      ],
      "metadata": {
        "id": "DEP0H-9RvmXT"
      },
      "execution_count": 5,
      "outputs": []
    },
    {
      "cell_type": "markdown",
      "source": [
        "# Original negative tweets document of Virgin America airline \n",
        "\n",
        "-------------------------------------\n",
        "- We can feed any full document of an existing summary "
      ],
      "metadata": {
        "id": "CdoZNTqjvzBW"
      }
    },
    {
      "cell_type": "code",
      "source": [
        "#Negative_tweets_related_to_Delta\n",
        "neg_tweets = data [(data ['airline_sentiment'] == \"negative\") & (data['airline'] == \"Virgin America\")]\n",
        "#neg_tweets.head ()"
      ],
      "metadata": {
        "id": "-4vMI403vrPW"
      },
      "execution_count": 6,
      "outputs": []
    },
    {
      "cell_type": "markdown",
      "source": [
        "# Document Cleaning "
      ],
      "metadata": {
        "id": "wVP8NanhB0uO"
      }
    },
    {
      "cell_type": "code",
      "source": [
        "def clean_train_data(x):\n",
        "    processed_feature = x\n",
        "    # remove all single characters\n",
        "    processed_feature = re.sub(r'\\W', ' ', processed_feature)\n",
        "    processed_feature= re.sub(r'\\s+[a-zA-Z]\\s+', ' ', processed_feature)\n",
        "    # Remove single characters from the start\n",
        "    processed_feature = re.sub(r'\\^[a-zA-Z]\\s+', ' ', processed_feature) \n",
        "\n",
        "    # Substituting multiple spaces with single space\n",
        "    processed_feature = re.sub(r'\\s+', ' ', processed_feature, flags=re.I)\n",
        "\n",
        "    # Removing prefixed 'b'\n",
        "    processed_feature = re.sub(r'^b\\s+', '', processed_feature)\n",
        "    processed_feature = re.sub (\"VirginAmerica\",\" \" ,processed_feature)  \n",
        "    # Converting to Lowercase\n",
        "    processed_feature = processed_feature.lower()\n",
        "    return processed_feature"
      ],
      "metadata": {
        "id": "WWOK1k4IBrOU"
      },
      "execution_count": 7,
      "outputs": []
    },
    {
      "cell_type": "code",
      "source": [
        "#Remove stopwords \n",
        "stop = set (stopwords.words (\"english\"))\n",
        "def remove_stopwords (text): \n",
        "  text = [word.lower () for word in text.split() if word.lower() not in stop]\n",
        "  return \" \".join(text)"
      ],
      "metadata": {
        "id": "r9Y0nOVQBvzZ"
      },
      "execution_count": 8,
      "outputs": []
    },
    {
      "cell_type": "code",
      "source": [
        "#remove noisy features \n",
        "neg_tweets['text'] = neg_tweets.text.apply(lambda x : clean_train_data(x))\n",
        "neg_tweets.head()"
      ],
      "metadata": {
        "colab": {
          "base_uri": "https://localhost:8080/",
          "height": 333
        },
        "id": "OdgJf3WY5xIC",
        "outputId": "cefa1da3-4bc0-4082-ce08-17422722345c"
      },
      "execution_count": 9,
      "outputs": [
        {
          "output_type": "stream",
          "name": "stderr",
          "text": [
            "<ipython-input-9-5b5f244db7e4>:2: SettingWithCopyWarning: \n",
            "A value is trying to be set on a copy of a slice from a DataFrame.\n",
            "Try using .loc[row_indexer,col_indexer] = value instead\n",
            "\n",
            "See the caveats in the documentation: https://pandas.pydata.org/pandas-docs/stable/user_guide/indexing.html#returning-a-view-versus-a-copy\n",
            "  neg_tweets['text'] = neg_tweets.text.apply(lambda x : clean_train_data(x))\n"
          ]
        },
        {
          "output_type": "execute_result",
          "data": {
            "text/plain": [
              "                                                 text airline_sentiment  \\\n",
              "3      it really aggressive to blast obnoxious ent...          negative   \n",
              "4              and it a really big bad thing about it          negative   \n",
              "5      seriously would pay 30 flight for seats tha...          negative   \n",
              "15                     sfo pdx schedule is still mia           negative   \n",
              "17     flew from nyc to sfo last week and couldn f...          negative   \n",
              "\n",
              "           airline  \n",
              "3   Virgin America  \n",
              "4   Virgin America  \n",
              "5   Virgin America  \n",
              "15  Virgin America  \n",
              "17  Virgin America  "
            ],
            "text/html": [
              "\n",
              "  <div id=\"df-537acbb2-fbb5-4e96-a1e1-bf153e363398\">\n",
              "    <div class=\"colab-df-container\">\n",
              "      <div>\n",
              "<style scoped>\n",
              "    .dataframe tbody tr th:only-of-type {\n",
              "        vertical-align: middle;\n",
              "    }\n",
              "\n",
              "    .dataframe tbody tr th {\n",
              "        vertical-align: top;\n",
              "    }\n",
              "\n",
              "    .dataframe thead th {\n",
              "        text-align: right;\n",
              "    }\n",
              "</style>\n",
              "<table border=\"1\" class=\"dataframe\">\n",
              "  <thead>\n",
              "    <tr style=\"text-align: right;\">\n",
              "      <th></th>\n",
              "      <th>text</th>\n",
              "      <th>airline_sentiment</th>\n",
              "      <th>airline</th>\n",
              "    </tr>\n",
              "  </thead>\n",
              "  <tbody>\n",
              "    <tr>\n",
              "      <th>3</th>\n",
              "      <td>it really aggressive to blast obnoxious ent...</td>\n",
              "      <td>negative</td>\n",
              "      <td>Virgin America</td>\n",
              "    </tr>\n",
              "    <tr>\n",
              "      <th>4</th>\n",
              "      <td>and it a really big bad thing about it</td>\n",
              "      <td>negative</td>\n",
              "      <td>Virgin America</td>\n",
              "    </tr>\n",
              "    <tr>\n",
              "      <th>5</th>\n",
              "      <td>seriously would pay 30 flight for seats tha...</td>\n",
              "      <td>negative</td>\n",
              "      <td>Virgin America</td>\n",
              "    </tr>\n",
              "    <tr>\n",
              "      <th>15</th>\n",
              "      <td>sfo pdx schedule is still mia</td>\n",
              "      <td>negative</td>\n",
              "      <td>Virgin America</td>\n",
              "    </tr>\n",
              "    <tr>\n",
              "      <th>17</th>\n",
              "      <td>flew from nyc to sfo last week and couldn f...</td>\n",
              "      <td>negative</td>\n",
              "      <td>Virgin America</td>\n",
              "    </tr>\n",
              "  </tbody>\n",
              "</table>\n",
              "</div>\n",
              "      <button class=\"colab-df-convert\" onclick=\"convertToInteractive('df-537acbb2-fbb5-4e96-a1e1-bf153e363398')\"\n",
              "              title=\"Convert this dataframe to an interactive table.\"\n",
              "              style=\"display:none;\">\n",
              "        \n",
              "  <svg xmlns=\"http://www.w3.org/2000/svg\" height=\"24px\"viewBox=\"0 0 24 24\"\n",
              "       width=\"24px\">\n",
              "    <path d=\"M0 0h24v24H0V0z\" fill=\"none\"/>\n",
              "    <path d=\"M18.56 5.44l.94 2.06.94-2.06 2.06-.94-2.06-.94-.94-2.06-.94 2.06-2.06.94zm-11 1L8.5 8.5l.94-2.06 2.06-.94-2.06-.94L8.5 2.5l-.94 2.06-2.06.94zm10 10l.94 2.06.94-2.06 2.06-.94-2.06-.94-.94-2.06-.94 2.06-2.06.94z\"/><path d=\"M17.41 7.96l-1.37-1.37c-.4-.4-.92-.59-1.43-.59-.52 0-1.04.2-1.43.59L10.3 9.45l-7.72 7.72c-.78.78-.78 2.05 0 2.83L4 21.41c.39.39.9.59 1.41.59.51 0 1.02-.2 1.41-.59l7.78-7.78 2.81-2.81c.8-.78.8-2.07 0-2.86zM5.41 20L4 18.59l7.72-7.72 1.47 1.35L5.41 20z\"/>\n",
              "  </svg>\n",
              "      </button>\n",
              "      \n",
              "  <style>\n",
              "    .colab-df-container {\n",
              "      display:flex;\n",
              "      flex-wrap:wrap;\n",
              "      gap: 12px;\n",
              "    }\n",
              "\n",
              "    .colab-df-convert {\n",
              "      background-color: #E8F0FE;\n",
              "      border: none;\n",
              "      border-radius: 50%;\n",
              "      cursor: pointer;\n",
              "      display: none;\n",
              "      fill: #1967D2;\n",
              "      height: 32px;\n",
              "      padding: 0 0 0 0;\n",
              "      width: 32px;\n",
              "    }\n",
              "\n",
              "    .colab-df-convert:hover {\n",
              "      background-color: #E2EBFA;\n",
              "      box-shadow: 0px 1px 2px rgba(60, 64, 67, 0.3), 0px 1px 3px 1px rgba(60, 64, 67, 0.15);\n",
              "      fill: #174EA6;\n",
              "    }\n",
              "\n",
              "    [theme=dark] .colab-df-convert {\n",
              "      background-color: #3B4455;\n",
              "      fill: #D2E3FC;\n",
              "    }\n",
              "\n",
              "    [theme=dark] .colab-df-convert:hover {\n",
              "      background-color: #434B5C;\n",
              "      box-shadow: 0px 1px 3px 1px rgba(0, 0, 0, 0.15);\n",
              "      filter: drop-shadow(0px 1px 2px rgba(0, 0, 0, 0.3));\n",
              "      fill: #FFFFFF;\n",
              "    }\n",
              "  </style>\n",
              "\n",
              "      <script>\n",
              "        const buttonEl =\n",
              "          document.querySelector('#df-537acbb2-fbb5-4e96-a1e1-bf153e363398 button.colab-df-convert');\n",
              "        buttonEl.style.display =\n",
              "          google.colab.kernel.accessAllowed ? 'block' : 'none';\n",
              "\n",
              "        async function convertToInteractive(key) {\n",
              "          const element = document.querySelector('#df-537acbb2-fbb5-4e96-a1e1-bf153e363398');\n",
              "          const dataTable =\n",
              "            await google.colab.kernel.invokeFunction('convertToInteractive',\n",
              "                                                     [key], {});\n",
              "          if (!dataTable) return;\n",
              "\n",
              "          const docLinkHtml = 'Like what you see? Visit the ' +\n",
              "            '<a target=\"_blank\" href=https://colab.research.google.com/notebooks/data_table.ipynb>data table notebook</a>'\n",
              "            + ' to learn more about interactive tables.';\n",
              "          element.innerHTML = '';\n",
              "          dataTable['output_type'] = 'display_data';\n",
              "          await google.colab.output.renderOutput(dataTable, element);\n",
              "          const docLink = document.createElement('div');\n",
              "          docLink.innerHTML = docLinkHtml;\n",
              "          element.appendChild(docLink);\n",
              "        }\n",
              "      </script>\n",
              "    </div>\n",
              "  </div>\n",
              "  "
            ]
          },
          "metadata": {},
          "execution_count": 9
        }
      ]
    },
    {
      "cell_type": "code",
      "source": [
        "#remove stopword \n",
        "negative_tweets = neg_tweets['text'].map(remove_stopwords)\n",
        "#negative_tweets"
      ],
      "metadata": {
        "id": "FSfYVXVm9AF3"
      },
      "execution_count": 10,
      "outputs": []
    },
    {
      "cell_type": "code",
      "source": [
        "#convert document to list \n",
        "negative_tweets = negative_tweets.tolist()\n",
        "type(negative_tweets)"
      ],
      "metadata": {
        "colab": {
          "base_uri": "https://localhost:8080/"
        },
        "id": "pwdcmc8T-BBf",
        "outputId": "f9e602b5-557d-4eac-9cf8-547e8e45e82a"
      },
      "execution_count": 11,
      "outputs": [
        {
          "output_type": "execute_result",
          "data": {
            "text/plain": [
              "list"
            ]
          },
          "metadata": {},
          "execution_count": 11
        }
      ]
    },
    {
      "cell_type": "code",
      "source": [
        "#stem words document \n",
        "full_document = [\" \".join([stem(word) for word in sentence.split(\" \")]) for sentence in negative_tweets]\n",
        "full_document[1]"
      ],
      "metadata": {
        "colab": {
          "base_uri": "https://localhost:8080/",
          "height": 36
        },
        "id": "kc4rVEaH-slr",
        "outputId": "c00f5e92-43ad-459e-f9a2-36f58d8a6abd"
      },
      "execution_count": 12,
      "outputs": [
        {
          "output_type": "execute_result",
          "data": {
            "text/plain": [
              "'realli big bad thing'"
            ],
            "application/vnd.google.colaboratory.intrinsic+json": {
              "type": "string"
            }
          },
          "metadata": {},
          "execution_count": 12
        }
      ]
    },
    {
      "cell_type": "markdown",
      "source": [
        "# Term-Frequency Matrix"
      ],
      "metadata": {
        "id": "yl-YbuM0DoOP"
      }
    },
    {
      "cell_type": "code",
      "source": [
        "#Create term-frquency matrix to the document \n",
        "from sklearn.feature_extraction.text import CountVectorizer\n",
        "count_vectorizer = CountVectorizer()\n",
        "vector_matrix = count_vectorizer.fit_transform(full_document)\n",
        "vector_matrix"
      ],
      "metadata": {
        "colab": {
          "base_uri": "https://localhost:8080/"
        },
        "id": "VCYW8d-C-9u0",
        "outputId": "ad44ae9f-f34d-4a40-bde1-95a1ef90a2fb"
      },
      "execution_count": 13,
      "outputs": [
        {
          "output_type": "execute_result",
          "data": {
            "text/plain": [
              "<181x778 sparse matrix of type '<class 'numpy.int64'>'\n",
              "\twith 1763 stored elements in Compressed Sparse Row format>"
            ]
          },
          "metadata": {},
          "execution_count": 13
        }
      ]
    },
    {
      "cell_type": "code",
      "source": [
        "tokens = count_vectorizer.get_feature_names()\n",
        "#tokens"
      ],
      "metadata": {
        "colab": {
          "base_uri": "https://localhost:8080/"
        },
        "id": "GQ_5Axl8_MFD",
        "outputId": "07ec0e01-306c-4e3e-e607-e69c463e1b8d"
      },
      "execution_count": 14,
      "outputs": [
        {
          "output_type": "stream",
          "name": "stderr",
          "text": [
            "/usr/local/lib/python3.8/dist-packages/sklearn/utils/deprecation.py:87: FutureWarning: Function get_feature_names is deprecated; get_feature_names is deprecated in 1.0 and will be removed in 1.2. Please use get_feature_names_out instead.\n",
            "  warnings.warn(msg, category=FutureWarning)\n"
          ]
        }
      ]
    },
    {
      "cell_type": "code",
      "source": [
        "full_document= vector_matrix.toarray()\n",
        "full_document.shape"
      ],
      "metadata": {
        "colab": {
          "base_uri": "https://localhost:8080/"
        },
        "id": "aMYkaSof_NAt",
        "outputId": "7bdae739-0e21-4cac-b998-a2572695f611"
      },
      "execution_count": 15,
      "outputs": [
        {
          "output_type": "execute_result",
          "data": {
            "text/plain": [
              "(181, 778)"
            ]
          },
          "metadata": {},
          "execution_count": 15
        }
      ]
    },
    {
      "cell_type": "code",
      "source": [
        "full__document = full_document.transpose()\n",
        "full__document.shape"
      ],
      "metadata": {
        "colab": {
          "base_uri": "https://localhost:8080/"
        },
        "id": "BpsYgZOC_iSQ",
        "outputId": "0b997969-e18b-4a8b-bbef-eda5cffb7211"
      },
      "execution_count": 16,
      "outputs": [
        {
          "output_type": "execute_result",
          "data": {
            "text/plain": [
              "(778, 181)"
            ]
          },
          "metadata": {},
          "execution_count": 16
        }
      ]
    },
    {
      "cell_type": "markdown",
      "source": [
        "# Summary of negative tweets of VA airline \n",
        "\n",
        "- We extract sentences summary (generated by LSA summarizer) which are subset of its full document by their indexes in the full document matrix \n",
        "- we can feed any summary in the same manner(by index of each sentence in its full document)"
      ],
      "metadata": {
        "id": "Igy3_Dc7EWuY"
      }
    },
    {
      "cell_type": "code",
      "source": [
        "summ_negative = np.array(( full_document[61], full_document[37], full_document[91], full_document[28], full_document[82], full_document[81], full_document[24],\n",
        "                          full_document[87], full_document[86], full_document[53], full_document[36], full_document[173], full_document[35], \n",
        "                          full_document[154], full_document[75], full_document[6], full_document[42], full_document[103], full_document[130], full_document[54])) "
      ],
      "metadata": {
        "id": "A-Mlavv-c1Jz"
      },
      "execution_count": 46,
      "outputs": []
    },
    {
      "cell_type": "code",
      "source": [
        "summary = summ_negative.transpose()\n",
        "summary.shape"
      ],
      "metadata": {
        "colab": {
          "base_uri": "https://localhost:8080/"
        },
        "id": "uBo8X4caAU6k",
        "outputId": "0b6e382c-13c7-487d-df33-91e6e26dd515"
      },
      "execution_count": 47,
      "outputs": [
        {
          "output_type": "execute_result",
          "data": {
            "text/plain": [
              "(778, 20)"
            ]
          },
          "metadata": {},
          "execution_count": 47
        }
      ]
    },
    {
      "cell_type": "markdown",
      "source": [
        "### Apllying SVD on Term-frequency matrix of the orginal document "
      ],
      "metadata": {
        "id": "TXCVBBItL4F-"
      }
    },
    {
      "cell_type": "code",
      "source": [
        "from numpy import array\n",
        "from scipy.linalg import svd\n",
        "U_neg, s_neg, VT_neg = svd(full__document) #svd matrix\n",
        "print(\"U_neg is equal to\") # U give the weights that would match each of the word belonging to the topic.\n",
        "print(U_neg)\n",
        "print(\"S_neg is \") # gives weightage of 1st topic and 2nd topic. \n",
        "print(s_neg)\n",
        "print(\"VT_neg is \") # VT gives weightage of the documents belonging to each of the topic.\n",
        "print(VT_neg)"
      ],
      "metadata": {
        "colab": {
          "base_uri": "https://localhost:8080/"
        },
        "id": "Kn25x2zrAjQe",
        "outputId": "9b42eb41-bf8b-4838-f103-121e2238c070"
      },
      "execution_count": 48,
      "outputs": [
        {
          "output_type": "stream",
          "name": "stdout",
          "text": [
            "U_neg is equal to\n",
            "[[-1.45798577e-03  5.12685294e-03 -1.70499597e-03 ...  5.58426481e-03\n",
            "   6.14178342e-03 -8.01360319e-04]\n",
            " [-1.85481544e-02  4.51662135e-02  1.50755472e-02 ...  2.63952129e-02\n",
            "  -1.00007444e-02  3.86949052e-05]\n",
            " [-1.45619326e-02 -9.67353149e-03 -7.27425547e-03 ...  1.30283653e-03\n",
            "  -4.27843231e-05 -1.38698641e-03]\n",
            " ...\n",
            " [-2.78025632e-03  1.10512655e-02  2.26443221e-03 ...  7.48733971e-01\n",
            "   2.33793861e-03  6.31785090e-03]\n",
            " [-8.27794004e-03 -8.96160473e-03  5.03895273e-05 ...  6.00760913e-04\n",
            "   8.52171210e-01  1.79340884e-03]\n",
            " [-1.38711233e-02 -8.46102251e-03  7.08400677e-04 ...  7.79803036e-03\n",
            "   1.16566369e-03  9.24147562e-01]]\n",
            "S_neg is \n",
            "[12.34270171  7.59148325  6.99325782  6.51834605  6.16488108  5.76832687\n",
            "  5.63278256  5.59829036  5.3931091   5.34910645  5.2000273   5.19034169\n",
            "  5.07604701  4.93390268  4.89962606  4.7775803   4.69834018  4.68948528\n",
            "  4.65862751  4.60247796  4.54659323  4.50441807  4.49387865  4.39179813\n",
            "  4.33516748  4.30087048  4.29393641  4.25189066  4.1798401   4.13879923\n",
            "  4.12784608  4.09111236  4.08082169  4.03901827  4.0115127   3.98925524\n",
            "  3.96055035  3.91832023  3.88699786  3.85511002  3.82998328  3.81080246\n",
            "  3.76297928  3.74415877  3.7072092   3.67384648  3.67231346  3.62878793\n",
            "  3.59118462  3.57639537  3.55003354  3.50935605  3.50433242  3.49338479\n",
            "  3.4642391   3.44414979  3.40253807  3.39484561  3.36483014  3.34639747\n",
            "  3.3181061   3.28920227  3.27576458  3.24240111  3.24209139  3.19486503\n",
            "  3.18604197  3.16725943  3.15814212  3.12988737  3.10548969  3.09633974\n",
            "  3.07978738  3.05595257  3.04195594  3.02755633  3.0050425   2.97426118\n",
            "  2.95384013  2.9363162   2.91419699  2.90881899  2.8913789   2.88888333\n",
            "  2.85543854  2.82064664  2.80624635  2.79392462  2.77653752  2.75574732\n",
            "  2.75100837  2.74512143  2.73699787  2.70413127  2.67998332  2.67223668\n",
            "  2.64475487  2.6332644   2.6192796   2.59579956  2.58627852  2.57513923\n",
            "  2.54817286  2.51841071  2.50532076  2.49297816  2.48775827  2.4701235\n",
            "  2.45443858  2.44038544  2.42308024  2.39935548  2.37365575  2.358376\n",
            "  2.34397865  2.33315478  2.31742071  2.30109045  2.28562221  2.26713491\n",
            "  2.24261115  2.24222167  2.23299606  2.22857065  2.20466091  2.18983323\n",
            "  2.18226492  2.15714566  2.1379454   2.12754659  2.11815037  2.10781763\n",
            "  2.07965495  2.06923783  2.04357884  2.02237959  2.01968301  1.99854979\n",
            "  1.98014394  1.96548122  1.95269207  1.92802966  1.90902457  1.89376836\n",
            "  1.88000612  1.87097609  1.86668573  1.84702951  1.84633879  1.82559118\n",
            "  1.79764412  1.76661903  1.76286989  1.73607704  1.72301708  1.71808098\n",
            "  1.69554049  1.67074307  1.65276431  1.63334906  1.62435675  1.60966911\n",
            "  1.57677688  1.56855446  1.54676662  1.527594    1.51342892  1.49825326\n",
            "  1.44088062  1.40426544  1.38116514  1.260103    1.22751675  1.11361669\n",
            "  1.02710559  0.90266466  0.85094201  0.79512456  0.66156295  0.61169437\n",
            "  0.31778374]\n",
            "VT_neg is \n",
            "[[-0.00649454 -0.00268885 -0.0875475  ... -0.00551784 -0.08961691\n",
            "  -0.04169864]\n",
            " [ 0.01904465  0.00247717  0.00331255 ...  0.03537807 -0.01279196\n",
            "   0.04574513]\n",
            " [-0.00690759 -0.0105552  -0.14058305 ... -0.13194522  0.00560825\n",
            "  -0.02255164]\n",
            " ...\n",
            " [-0.00536543 -0.01845975  0.00674628 ...  0.00784656 -0.00516757\n",
            "   0.0031259 ]\n",
            " [ 0.008909   -0.00554396  0.01209477 ... -0.00674094 -0.00585496\n",
            "   0.02640611]\n",
            " [-0.00625899  0.00336396 -0.0007458  ...  0.00464811  0.00232277\n",
            "   0.00208279]]\n"
          ]
        }
      ]
    },
    {
      "cell_type": "markdown",
      "source": [
        "### Applying SVD on term-frequency matrix of the summary"
      ],
      "metadata": {
        "id": "HjbpmzJDL8gz"
      }
    },
    {
      "cell_type": "code",
      "source": [
        "from numpy import array\n",
        "from scipy.linalg import svd\n",
        "U_neg1, s_neg1, VT_neg1 = svd(summary) #svd matrix\n",
        "print(\"U_neg1 is equal to\") # U give the weights that would match each of the word belonging to the topic.\n",
        "print(U_neg1)\n",
        "print(\"S_neg1 is \") # gives weightage of 1st topic and 2nd topic. \n",
        "print(s_neg1)\n",
        "print(\"VT_neg1 is \") # VT gives weightage of the documents belonging to each of the topic.\n",
        "print(VT_neg1)"
      ],
      "metadata": {
        "colab": {
          "base_uri": "https://localhost:8080/"
        },
        "id": "G_8HkO2dA5A3",
        "outputId": "44758532-0082-43b3-bb15-d5ed3605ae94"
      },
      "execution_count": 49,
      "outputs": [
        {
          "output_type": "stream",
          "name": "stdout",
          "text": [
            "U_neg1 is equal to\n",
            "[[ 1.51405371e-16  9.72193250e-19 -3.20324269e-17 ...  0.00000000e+00\n",
            "   0.00000000e+00  5.63785130e-18]\n",
            " [-2.69338970e-17 -1.89481267e-18 -5.03516099e-17 ...  0.00000000e+00\n",
            "   0.00000000e+00 -3.25260652e-19]\n",
            " [-2.50292923e-02  1.88008477e-02  1.27839790e-02 ...  0.00000000e+00\n",
            "   0.00000000e+00  1.37763658e-03]\n",
            " ...\n",
            " [ 0.00000000e+00  0.00000000e+00  0.00000000e+00 ...  1.00000000e+00\n",
            "   0.00000000e+00  0.00000000e+00]\n",
            " [ 0.00000000e+00  0.00000000e+00  0.00000000e+00 ...  0.00000000e+00\n",
            "   1.00000000e+00  0.00000000e+00]\n",
            " [-2.41446121e-02 -3.71000048e-03  1.32735830e-02 ...  0.00000000e+00\n",
            "   0.00000000e+00  9.42566946e-01]]\n",
            "S_neg1 is \n",
            "[9.5664712  4.98031534 4.68842146 4.44120941 4.2017177  4.12699012\n",
            " 3.43726894 3.31056905 3.29933267 3.07816031 2.9814135  2.91631443\n",
            " 2.73103439 2.61024026 2.45290284 2.40129711 2.34400727 2.28382725\n",
            " 2.18384276 1.79544817]\n",
            "VT_neg1 is \n",
            "[[-3.53951490e-01 -3.30971818e-01 -3.03852557e-01 -2.52627709e-01\n",
            "  -2.43224496e-01 -2.46964585e-01 -2.43917729e-01 -2.39442004e-01\n",
            "  -2.25028622e-01 -2.59788766e-01 -2.30978736e-01 -2.47620162e-01\n",
            "  -2.48166678e-01 -1.94380267e-02 -1.92385872e-01 -7.10703496e-03\n",
            "  -1.99797105e-01 -1.59171053e-02 -6.79122517e-03 -3.18363070e-03]\n",
            " [-5.02231179e-03 -2.55965465e-02 -2.52579687e-03 -7.75970928e-03\n",
            "  -6.81901657e-03 -7.01121556e-03 -7.21064881e-03  9.36341503e-02\n",
            "  -4.46108735e-03 -7.56684714e-03 -1.84769723e-02 -7.51627219e-03\n",
            "  -2.77677925e-02 -6.98872682e-03 -6.43625487e-03  8.83406361e-01\n",
            "   2.39805914e-02  1.42128268e-02  4.87361283e-02  4.53257703e-01]\n",
            " [ 7.73005618e-02 -3.78795490e-01  3.76119891e-01  8.09427058e-02\n",
            "   4.71376476e-02  6.84139784e-02  6.19097066e-02  5.99366814e-02\n",
            "   2.77811853e-02 -4.83337275e-02  6.22321515e-02  1.04269135e-01\n",
            "  -4.53848698e-01  6.53542479e-01 -4.60256586e-02 -2.75681752e-03\n",
            "  -8.36864372e-02 -1.40823216e-01 -8.93118460e-02 -1.75112309e-02]\n",
            " [-1.50086996e-01  3.33862481e-01 -1.02298110e-01 -1.65193469e-01\n",
            "  -1.38925210e-01 -1.29525590e-01 -1.02422587e-01 -1.09106540e-01\n",
            "  -7.83039151e-02 -4.19434767e-02  1.92772519e-01 -7.67757495e-02\n",
            "   4.37345815e-01  6.92513399e-01  2.53901827e-03  1.17853363e-02\n",
            "   4.55204099e-02  1.71037317e-01  1.25211230e-01  2.90255727e-02]\n",
            " [ 1.90411938e-02 -1.03189387e-01  9.06601501e-02  4.01084306e-02\n",
            "   2.62004780e-02  4.92458517e-02  8.27532909e-03  9.07042344e-03\n",
            "   1.12986012e-02  2.03973021e-01 -4.34076581e-01  3.51362452e-02\n",
            "  -1.21415541e-01  5.41275573e-02 -3.45441424e-02 -7.97972610e-02\n",
            "   1.33005901e-01  5.11784385e-01  6.62117482e-01  3.55466206e-02]\n",
            " [-4.85948937e-02 -1.72080903e-01 -8.75652181e-02 -4.66460431e-02\n",
            "  -3.78642060e-02 -3.91519402e-02  3.86173514e-02 -4.15687432e-02\n",
            "  -1.84883858e-02 -1.98825442e-02  8.30109214e-01 -6.64626551e-02\n",
            "  -2.52871225e-01 -1.68786698e-01  2.03072238e-02 -3.50122398e-02\n",
            "   1.13565236e-01  2.13393818e-01  3.22878007e-01  3.17234844e-02]\n",
            " [ 2.81644604e-01  4.63819042e-02  1.34714220e-01  4.42687629e-02\n",
            "   6.99428905e-02 -1.26209579e-01 -1.32120887e-01  9.35222456e-02\n",
            "   4.42418186e-02 -8.76875022e-01 -5.24962261e-02  1.13997839e-01\n",
            "   5.10090140e-02 -5.68886873e-02  4.79099903e-02 -3.72026097e-02\n",
            "   1.77679635e-01  1.14239849e-01  1.00742411e-01  2.20954655e-02]\n",
            " [-3.83338734e-01  8.45964960e-03 -1.53569386e-01  5.82392609e-01\n",
            "   5.98624282e-01  2.33178052e-02  6.59763072e-02 -1.36558193e-01\n",
            "  -4.70987389e-02 -1.30383927e-01 -2.96237990e-03 -2.80519202e-01\n",
            "   1.40799915e-02  8.23206667e-02  3.88692866e-03 -6.14161818e-03\n",
            "   3.09239244e-02  5.19575976e-03  1.01480396e-02  4.78255780e-02]\n",
            " [ 2.57355551e-02 -3.88962749e-02 -6.36985392e-01 -3.24031446e-02\n",
            "   1.33218902e-01  5.86581022e-02 -6.52130815e-02 -9.10841532e-02\n",
            "   4.33371020e-02  2.78810350e-02 -5.17587008e-02  6.18638948e-01\n",
            "  -1.91044752e-01  1.47467233e-01  1.48023214e-01 -2.93348580e-02\n",
            "   2.76274212e-01 -3.18214286e-02 -7.87566266e-02  6.84104157e-02]\n",
            " [ 1.17574904e-01 -3.03797662e-02 -3.47985831e-02 -7.88772021e-02\n",
            "  -1.60103830e-02 -1.10535816e-01 -1.02654336e-02  9.76640901e-02\n",
            "   4.13467663e-02  1.03234357e-01 -6.48442032e-02 -4.03025453e-01\n",
            "  -1.76169087e-01  5.43723762e-02  1.06956893e-01  4.40044284e-03\n",
            "   5.34191267e-01  4.27936968e-01 -5.11394639e-01 -3.51489960e-02]\n",
            " [-3.79985054e-01 -2.77699130e-02  1.98047684e-01  1.27603657e-01\n",
            "  -1.62530868e-01  2.53382592e-01  9.65834948e-02 -9.40549716e-02\n",
            "  -1.04795623e-01 -1.20106532e-01  5.72237386e-02  4.13605627e-01\n",
            "   8.89100935e-02 -9.58469792e-02 -1.70471961e-01  1.20711017e-01\n",
            "  -1.37498449e-01  5.22996880e-01 -3.23292700e-01 -1.81977447e-01]\n",
            " [ 2.09744392e-01 -1.41646184e-02 -2.03902677e-01 -7.63980072e-02\n",
            "   3.43268404e-01 -2.56131400e-01 -1.71517653e-01  3.28135204e-01\n",
            "   3.49843042e-02  7.30455261e-02  5.09133784e-02  1.04829119e-02\n",
            "  -1.69385655e-02  4.78735510e-02 -2.99490088e-02  2.52562639e-01\n",
            "  -4.05604071e-01  2.24154063e-01 -3.54433428e-03 -5.44581200e-01]\n",
            " [-2.05980528e-01  5.21862076e-02 -2.13960539e-01  1.98789132e-01\n",
            "  -4.21357715e-01  2.88541319e-01  2.09786842e-01  3.69876578e-01\n",
            "   1.03045959e-02 -1.55496900e-01 -6.38127269e-02 -1.58732318e-01\n",
            "  -8.58846695e-02  6.89255695e-02  2.21315165e-01  1.68811737e-01\n",
            "   1.67351252e-01 -1.92110327e-01  1.81738131e-01 -4.32244149e-01]\n",
            " [ 5.02099063e-01  1.64915293e-03 -2.69193009e-01  4.92457496e-01\n",
            "  -3.67254613e-01  2.17282836e-02  8.70030705e-02 -3.33563004e-01\n",
            "   8.39785165e-02 -3.10985461e-03  1.07406311e-02 -1.29353961e-01\n",
            "  -2.68846657e-02  7.02371454e-02  1.40170549e-03  5.60565736e-03\n",
            "  -3.22937471e-01  1.82234566e-01 -6.77414587e-02  8.39429331e-02]\n",
            " [-9.60007583e-02 -6.62161599e-02  8.75717815e-02  4.68386470e-01\n",
            "  -2.56717377e-01 -6.01864086e-01 -1.98678858e-01  2.64333654e-01\n",
            "  -8.84788640e-02  1.77881280e-01  3.56164838e-02  2.27549109e-01\n",
            "   7.98574197e-02 -3.76078718e-02 -2.38480095e-01 -4.02827322e-02\n",
            "   2.25730853e-01 -1.09420891e-01  2.92755828e-03  1.06999499e-02]\n",
            " [ 7.82585233e-02  1.83243038e-02  2.21319458e-01  9.04451378e-03\n",
            "   3.04738139e-02 -1.44693361e-01 -5.01872221e-02 -6.56890468e-01\n",
            "  -1.38729992e-02  6.00963746e-02 -1.74002087e-02  5.48799206e-02\n",
            "  -1.12503785e-02 -4.92798448e-02  9.60779402e-02  3.13754806e-01\n",
            "   2.95932773e-01 -1.69351038e-01  9.91649858e-02 -4.95126900e-01]\n",
            " [-2.15238623e-01  2.16064209e-01  1.55072165e-01  1.79600230e-02\n",
            "  -6.70445520e-02 -3.70842438e-01  8.77848393e-02 -2.82148679e-02\n",
            "  -6.46467043e-03  4.75637794e-03 -5.04461139e-02  9.36647273e-02\n",
            "  -2.34214258e-01 -3.50508811e-02  7.53702989e-01 -4.82328676e-02\n",
            "  -2.63800553e-01  1.02325764e-01 -3.11746945e-02  1.14901533e-01]\n",
            " [-9.13404530e-03  6.35893795e-02  1.04738540e-01  1.60183443e-01\n",
            "  -5.31299578e-02  3.77358623e-01 -8.62676663e-01  2.67311427e-02\n",
            "  -5.79683278e-02  9.11870858e-02  6.23016935e-02 -4.73743650e-02\n",
            "  -6.60772645e-02 -2.22632566e-02  2.13232934e-01 -1.19901794e-02\n",
            "  -1.86824025e-02 -1.91118646e-03 -9.59216314e-03  1.93989003e-02]\n",
            " [-2.72172308e-02  7.26857878e-01  2.08169856e-02 -7.55158274e-03\n",
            "  -5.69936377e-03 -8.25434072e-03 -8.43065779e-03 -1.84799496e-02\n",
            "   6.78226724e-03 -2.56009103e-02 -8.24964789e-03 -3.60065741e-05\n",
            "  -5.55801713e-01 -3.55629336e-03 -3.98863661e-01  4.20483824e-03\n",
            "  -1.70748874e-02 -2.39626843e-02  1.54911589e-02 -4.46973126e-03]\n",
            " [-2.39382430e-01 -4.96557991e-02 -3.35407324e-03 -2.06050198e-02\n",
            "  -7.11048226e-02 -6.86285075e-02 -1.18723152e-01 -5.95199939e-02\n",
            "   9.50459081e-01 -2.85612522e-02 -1.16975069e-03 -2.15276597e-02\n",
            "   2.09790153e-02  1.95272506e-03 -7.66955811e-02  7.78413302e-03\n",
            "  -3.39310875e-02  1.38348874e-02  9.20044325e-04 -2.76194412e-03]]\n"
          ]
        }
      ]
    },
    {
      "cell_type": "code",
      "source": [
        "from numpy import zeros\n",
        "from numpy import diag\n",
        "# create m x n Sigma matrix\n",
        "Sigma_neg = zeros((full__document.shape[0], full__document.shape[1])) #original\n",
        "# populate Sigma with n x n diagonal matrix\n",
        "Sigma_neg [:full__document.shape[1], :full__document.shape[1]] = diag(s_neg)\n",
        "# reconstruct matrix\n",
        "B1 = U_neg.dot(Sigma_neg.dot(VT_neg))\n",
        "Sigma_neg"
      ],
      "metadata": {
        "colab": {
          "base_uri": "https://localhost:8080/"
        },
        "id": "-39HzqJ3BbE_",
        "outputId": "5d2b5365-4fbb-477b-f132-fae0b727c27c"
      },
      "execution_count": 50,
      "outputs": [
        {
          "output_type": "execute_result",
          "data": {
            "text/plain": [
              "array([[12.34270171,  0.        ,  0.        , ...,  0.        ,\n",
              "         0.        ,  0.        ],\n",
              "       [ 0.        ,  7.59148325,  0.        , ...,  0.        ,\n",
              "         0.        ,  0.        ],\n",
              "       [ 0.        ,  0.        ,  6.99325782, ...,  0.        ,\n",
              "         0.        ,  0.        ],\n",
              "       ...,\n",
              "       [ 0.        ,  0.        ,  0.        , ...,  0.        ,\n",
              "         0.        ,  0.        ],\n",
              "       [ 0.        ,  0.        ,  0.        , ...,  0.        ,\n",
              "         0.        ,  0.        ],\n",
              "       [ 0.        ,  0.        ,  0.        , ...,  0.        ,\n",
              "         0.        ,  0.        ]])"
            ]
          },
          "metadata": {},
          "execution_count": 50
        }
      ]
    },
    {
      "cell_type": "code",
      "source": [
        "# create m x n Sigma matrix\n",
        "Sigma_neg1 = zeros((summary.shape[0], summary.shape[1])) #summary\n",
        "# populate Sigma with n x n diagonal matrix\n",
        "Sigma_neg1[:summary.shape[1], :summary.shape[1]] = diag(s_neg1)\n",
        "# reconstruct matrix\n",
        "B2 = U_neg1.dot(Sigma_neg1.dot(VT_neg1))\n",
        "#print(B2)\n",
        "#B1.shape "
      ],
      "metadata": {
        "id": "ft9j7R_FB9Co"
      },
      "execution_count": 51,
      "outputs": []
    },
    {
      "cell_type": "code",
      "source": [
        "Sigma1_sq = np.square(Sigma_neg)\n",
        "Sigma2_sq = np.square(Sigma_neg1)"
      ],
      "metadata": {
        "id": "9STaPy3BCPnM"
      },
      "execution_count": 52,
      "outputs": []
    },
    {
      "cell_type": "code",
      "source": [
        "Original_U_neg = np.dot(U_neg, Sigma1_sq) #np.square\n",
        "ou_neg = np.sqrt(np.square(Original_U_neg))\n",
        "Original_U_neg.shape"
      ],
      "metadata": {
        "colab": {
          "base_uri": "https://localhost:8080/"
        },
        "id": "xYCv4ZiNCQaB",
        "outputId": "c8a45c27-7c0e-4b7f-8290-fc196e196adf"
      },
      "execution_count": 53,
      "outputs": [
        {
          "output_type": "execute_result",
          "data": {
            "text/plain": [
              "(778, 181)"
            ]
          },
          "metadata": {},
          "execution_count": 53
        }
      ]
    },
    {
      "cell_type": "code",
      "source": [
        "Summary_U_neg = np.dot(U_neg1, Sigma2_sq)\n",
        "su_neg = np.sqrt(np.square(Summary_U_neg))\n",
        "Summary_U_neg.shape"
      ],
      "metadata": {
        "colab": {
          "base_uri": "https://localhost:8080/"
        },
        "id": "17f4G4HjCWXN",
        "outputId": "1bbaaf3e-efbe-4429-8b83-f3a769f55ecd"
      },
      "execution_count": 54,
      "outputs": [
        {
          "output_type": "execute_result",
          "data": {
            "text/plain": [
              "(778, 20)"
            ]
          },
          "metadata": {},
          "execution_count": 54
        }
      ]
    },
    {
      "cell_type": "code",
      "source": [
        "O_T_neg =Original_U_neg.transpose()\n",
        "O_T_neg1 = ou_neg.transpose()\n",
        "O_T_neg.shape"
      ],
      "metadata": {
        "colab": {
          "base_uri": "https://localhost:8080/"
        },
        "id": "JolZ9sJSCeQg",
        "outputId": "d2049ac6-9c87-4574-dbb0-daa9e3566e6f"
      },
      "execution_count": 55,
      "outputs": [
        {
          "output_type": "execute_result",
          "data": {
            "text/plain": [
              "(181, 778)"
            ]
          },
          "metadata": {},
          "execution_count": 55
        }
      ]
    },
    {
      "cell_type": "code",
      "source": [
        "S_T_neg = Summary_U_neg.transpose()\n",
        "S_T_neg1 = su_neg.transpose()\n",
        "S_T_neg.shape"
      ],
      "metadata": {
        "colab": {
          "base_uri": "https://localhost:8080/"
        },
        "id": "TkEbKkOwCioc",
        "outputId": "8c38e883-8c40-488b-cb73-1d5509682870"
      },
      "execution_count": 56,
      "outputs": [
        {
          "output_type": "execute_result",
          "data": {
            "text/plain": [
              "(20, 778)"
            ]
          },
          "metadata": {},
          "execution_count": 56
        }
      ]
    },
    {
      "cell_type": "markdown",
      "source": [
        "# Top Topics Similarity "
      ],
      "metadata": {
        "id": "WxLpvDIxNsot"
      }
    },
    {
      "cell_type": "code",
      "source": [
        "topic1_neg = cosine_similarity ([O_T_neg1[0]], [S_T_neg1[0]])\n",
        "topic2_neg = cosine_similarity ([O_T_neg1[1]], [S_T_neg1[1]])\n",
        "topic3_neg = cosine_similarity ([O_T_neg1[2]], [S_T_neg1[2]])\n",
        "topic4_neg = cosine_similarity ([O_T_neg1[3]], [S_T_neg1[3]])\n",
        "topic5_neg = cosine_similarity ([O_T_neg1[4]], [S_T_neg1[4]])"
      ],
      "metadata": {
        "id": "FzLQOu0mCn54"
      },
      "execution_count": 57,
      "outputs": []
    },
    {
      "cell_type": "code",
      "source": [
        "print(\"Similarity of topic1\") \n",
        "print(topic1_neg)\n",
        "print(\"Similarity of topic2\")\n",
        "print(topic2_neg)\n",
        "print(\"Similarity of topic3\") \n",
        "print(topic3_neg) \n",
        "print(\"Similarity of topic4\") \n",
        "print(topic4_neg)\n",
        "print(\"Similarity of topic5\")\n",
        "print(topic5_neg)"
      ],
      "metadata": {
        "colab": {
          "base_uri": "https://localhost:8080/"
        },
        "id": "snEfjYcMmi2v",
        "outputId": "2324e067-b49a-4d5e-a5ab-8c934ac7b20a"
      },
      "execution_count": 58,
      "outputs": [
        {
          "output_type": "stream",
          "name": "stdout",
          "text": [
            "Similarity of topic1\n",
            "[[0.94715807]]\n",
            "Similarity of topic2\n",
            "[[0.29705655]]\n",
            "Similarity of topic3\n",
            "[[0.12914065]]\n",
            "Similarity of topic4\n",
            "[[0.35161918]]\n",
            "Similarity of topic5\n",
            "[[0.3849106]]\n"
          ]
        }
      ]
    },
    {
      "cell_type": "markdown",
      "source": [
        "# Term Significance Similarity "
      ],
      "metadata": {
        "id": "_-VZ4MffNx48"
      }
    },
    {
      "cell_type": "code",
      "source": [
        "av_neg = np.sqrt(np.sum(np.square(Original_U_neg), axis=1)) #0 vertical #1 horizonital \n",
        "av_neg = av_neg.reshape(1, -1)\n",
        "av_neg"
      ],
      "metadata": {
        "colab": {
          "base_uri": "https://localhost:8080/"
        },
        "id": "GsGNqFNoDDo5",
        "outputId": "4b31f1a8-5221-490e-b2ad-08a145aae616"
      },
      "execution_count": 30,
      "outputs": [
        {
          "output_type": "execute_result",
          "data": {
            "text/plain": [
              "array([[  3.16227766,   8.24621125,   5.47722558,   4.        ,\n",
              "          4.47213595,   3.        ,   3.87298335,   3.87298335,\n",
              "          3.16227766,   3.16227766,   3.46410162,   3.87298335,\n",
              "          3.60555128,   5.47722558,   3.16227766,   4.        ,\n",
              "          4.35889894,   4.24264069,   3.46410162,   3.        ,\n",
              "          3.16227766,   7.81024968,   4.35889894,   3.46410162,\n",
              "          3.        ,   3.46410162,   3.46410162,   6.8556546 ,\n",
              "          5.29150262,   2.64575131,   6.        ,   8.71779789,\n",
              "          3.74165739,   4.        ,   3.16227766,   3.60555128,\n",
              "          3.60555128,   3.46410162,   3.87298335,   4.24264069,\n",
              "          3.87298335,   3.46410162,   4.12310563,   3.31662479,\n",
              "          3.74165739,   5.91607978,   3.31662479,   3.16227766,\n",
              "          3.74165739,   6.164414  ,   4.12310563,   4.12310563,\n",
              "          9.11043358,   8.30662386,   3.87298335,   4.47213595,\n",
              "          4.35889894,   4.        ,   3.31662479,   4.        ,\n",
              "          2.64575131,   5.38516481,   3.16227766,   9.38083152,\n",
              "          3.16227766,  15.84297952,   6.        ,   3.16227766,\n",
              "          5.83095189,   3.16227766,  14.2126704 ,   9.53939201,\n",
              "          7.81024968,   3.16227766,   2.82842712,   9.21954446,\n",
              "          2.82842712,   3.31662479,   4.69041576,   3.16227766,\n",
              "          3.16227766,   2.82842712,   8.71779789,   4.24264069,\n",
              "          4.35889894,   2.64575131,   2.82842712,   3.46410162,\n",
              "          3.        ,   4.89897949,   3.60555128,   3.31662479,\n",
              "          4.58257569,   3.46410162,   3.31662479,   3.31662479,\n",
              "          4.58257569,   5.91607978,  11.83215957,   7.54983444,\n",
              "          3.46410162,  18.22086716,   6.78232998,   2.64575131,\n",
              "          4.        ,   3.46410162,   6.63324958,   3.16227766,\n",
              "          2.82842712,   3.87298335,   3.60555128,   4.12310563,\n",
              "          5.74456265,   2.        ,   6.8556546 ,   6.4807407 ,\n",
              "          2.44948974,   3.46410162,   3.74165739,   3.16227766,\n",
              "          3.74165739,   3.        ,  28.75760769,   8.36660027,\n",
              "          6.70820393,   4.58257569,   4.47213595,   4.        ,\n",
              "         13.15294644,  10.81665383,   3.46410162,   4.        ,\n",
              "          5.91607978,   4.        ,  13.26649916,   4.69041576,\n",
              "          4.79583152,   3.        ,   5.56776436,   3.74165739,\n",
              "          3.16227766,  20.92844954,   3.        ,  39.        ,\n",
              "          6.        ,   3.60555128,   3.46410162,   4.89897949,\n",
              "          8.36660027,   5.        ,   3.60555128,   3.74165739,\n",
              "          2.44948974,   6.4807407 ,   3.46410162,  13.37908816,\n",
              "          2.44948974,   6.78232998,   2.64575131,  34.68429039,\n",
              "          9.21954446,   3.16227766,   3.46410162,   3.31662479,\n",
              "          3.31662479,  10.19803903,   5.74456265,   5.56776436,\n",
              "          4.        ,   3.31662479,   3.60555128,  20.22374842,\n",
              "          3.16227766,   4.47213595,   5.09901951,   3.31662479,\n",
              "          4.        ,   3.31662479,   5.        ,   2.82842712,\n",
              "          7.81024968,   4.        ,   4.89897949,   3.31662479,\n",
              "         11.22497216,   5.83095189,   3.74165739,   3.87298335,\n",
              "          6.55743852,   5.83095189,   4.12310563,   3.16227766,\n",
              "          2.44948974,   3.16227766,   3.16227766,   3.46410162,\n",
              "          4.        ,   5.74456265,   3.74165739,   2.64575131,\n",
              "          7.14142843,   4.12310563,   5.83095189,  12.68857754,\n",
              "          5.09901951,  11.61895004,   2.82842712,  13.78404875,\n",
              "         12.16552506,   2.64575131,  10.14889157,   3.31662479,\n",
              "          3.31662479,  14.10673598,   4.        ,   6.70820393,\n",
              "          3.31662479,   3.31662479,   5.91607978,   4.12310563,\n",
              "          2.        ,   2.64575131,   3.46410162,   2.82842712,\n",
              "          5.        ,   9.8488578 ,   4.69041576,   3.46410162,\n",
              "         11.87434209,   3.16227766,   5.47722558,   4.        ,\n",
              "          3.31662479,   2.64575131,   3.31662479,   3.60555128,\n",
              "          5.19615242,   3.87298335,   4.        ,   3.60555128,\n",
              "          6.8556546 ,   4.        ,   3.31662479,   9.53939201,\n",
              "          3.31662479,   4.24264069,   5.56776436,   9.69535971,\n",
              "          3.31662479,  26.28687886,   3.46410162,   3.74165739,\n",
              "          5.47722558,   4.69041576,   5.83095189,   8.30662386,\n",
              "          7.07106781,   6.63324958,   2.        ,   8.        ,\n",
              "          6.164414  ,   3.46410162,   4.47213595,   4.35889894,\n",
              "          3.74165739,   4.24264069,   8.94427191,   2.        ,\n",
              "          4.12310563,   3.16227766,   9.11043358,   3.87298335,\n",
              "          3.46410162,   6.8556546 ,   5.47722558,   5.        ,\n",
              "          4.        ,   8.66025404,   2.64575131,   3.60555128,\n",
              "          5.29150262,   2.64575131,   4.12310563,  10.72380529,\n",
              "          6.40312424,   4.        ,   3.87298335,  19.49358869,\n",
              "          3.46410162, 130.01922935,  18.35755975,   5.56776436,\n",
              "          8.30662386,   3.74165739,   3.46410162,  10.        ,\n",
              "          4.12310563,   3.46410162,   4.24264069,   5.56776436,\n",
              "          4.89897949,   3.31662479,   6.244998  ,   2.44948974,\n",
              "          3.46410162,   5.83095189,   3.16227766,   4.        ,\n",
              "          6.40312424,   3.87298335,   3.74165739,   3.16227766,\n",
              "          3.31662479,   4.47213595,   3.74165739,   5.29150262,\n",
              "          6.        ,   3.87298335,  20.5669638 ,   9.94987437,\n",
              "         10.04987562,   3.60555128,   6.        ,   5.91607978,\n",
              "          5.91607978,  11.22497216,   5.09901951,   2.82842712,\n",
              "          7.14142843,  10.53565375,   3.16227766,  14.79864859,\n",
              "          2.82842712,   3.31662479,   3.46410162,   4.        ,\n",
              "          4.        ,   7.        ,   4.12310563,   3.46410162,\n",
              "          3.31662479,   4.24264069,   7.54983444,  25.47547841,\n",
              "          4.12310563,   2.82842712,   9.        ,   4.        ,\n",
              "          6.4807407 ,   8.54400375,   7.        ,   5.65685425,\n",
              "          5.65685425,  14.2126704 ,   4.24264069,  17.88854382,\n",
              "          5.19615242,   2.82842712,   2.44948974,   3.        ,\n",
              "          3.74165739,   6.92820323,   3.87298335,   3.60555128,\n",
              "          3.16227766,   2.82842712,   3.46410162,   3.60555128,\n",
              "          3.31662479,   5.83095189,   3.87298335,   3.31662479,\n",
              "          6.08276253,   3.87298335,   4.58257569,   5.74456265,\n",
              "         11.22497216,   1.73205081,   5.19615242,   3.16227766,\n",
              "          3.31662479,   3.16227766,   3.46410162,  14.17744688,\n",
              "          3.31662479,   3.16227766,   6.08276253,   2.64575131,\n",
              "          3.87298335,   3.31662479,   7.34846923,   9.8488578 ,\n",
              "          4.        ,   6.78232998,   3.46410162,   6.        ,\n",
              "          3.87298335,   3.74165739,   7.54983444,  14.2126704 ,\n",
              "         17.80449381,   4.58257569,   3.        ,   5.65685425,\n",
              "          5.        ,   5.91607978,   5.        ,   8.42614977,\n",
              "          7.41619849,   4.35889894,  15.74801575,   2.        ,\n",
              "          4.35889894,   7.81024968,   5.19615242,   5.38516481,\n",
              "          3.60555128,   3.74165739,   3.31662479,   5.29150262,\n",
              "          5.56776436,  15.77973384,   2.82842712,  11.5758369 ,\n",
              "          6.08276253,   4.12310563,   3.        ,   3.87298335,\n",
              "         17.94435844,   3.74165739,   9.21954446,   3.46410162,\n",
              "          2.44948974,   3.16227766,   2.64575131,   3.16227766,\n",
              "          9.59166305,   9.64365076,   2.        ,   4.        ,\n",
              "          4.89897949,   4.24264069,   2.44948974,   3.31662479,\n",
              "          4.58257569,   3.16227766,   2.23606798,   5.83095189,\n",
              "          5.38516481,   3.46410162,   5.29150262,  12.        ,\n",
              "          4.        ,  14.79864859,   4.89897949,   4.12310563,\n",
              "          3.87298335,   3.31662479,   3.46410162,   2.64575131,\n",
              "          4.24264069,   3.87298335,   4.24264069,   4.24264069,\n",
              "          3.74165739,  13.07669683,  10.44030651,   2.82842712,\n",
              "          5.        ,   5.74456265,   6.4807407 ,  15.62049935,\n",
              "          2.64575131,   3.31662479,   3.16227766,   3.31662479,\n",
              "          2.64575131,   9.21954446,   5.65685425,   6.164414  ,\n",
              "          7.93725393,   3.31662479,   3.        ,   7.14142843,\n",
              "          3.        ,   3.16227766,   9.21954446,  13.6381817 ,\n",
              "          9.38083152,   7.14142843,   8.18535277,   3.        ,\n",
              "          4.12310563,   3.16227766,   4.79583152,   9.        ,\n",
              "          2.82842712,   3.        ,   2.82842712,   3.74165739,\n",
              "          3.31662479,   3.74165739,   7.68114575,   6.08276253,\n",
              "          3.        ,   3.46410162,   6.32455532,   4.35889894,\n",
              "          4.58257569,   5.74456265,   1.73205081,   3.16227766,\n",
              "          3.        ,  17.77638883,   3.        ,   3.46410162,\n",
              "          3.31662479,  11.78982612,   3.46410162,   9.2736185 ,\n",
              "          4.        ,   4.47213595,   4.        ,   3.46410162,\n",
              "          3.31662479,   3.16227766,   2.82842712,   3.31662479,\n",
              "          5.47722558,   3.46410162,   4.35889894,  23.79075451,\n",
              "          4.69041576,   3.        ,   3.74165739,   3.31662479,\n",
              "          4.        ,   5.        ,   3.87298335,   3.74165739,\n",
              "          3.31662479,   3.31662479,   3.46410162,   3.31662479,\n",
              "          3.31662479,   4.        ,   3.        ,   8.60232527,\n",
              "          4.47213595,   6.164414  ,   3.87298335,   4.47213595,\n",
              "          4.12310563,   3.16227766,   5.        ,   3.46410162,\n",
              "          2.82842712,   4.79583152,   3.46410162,   5.47722558,\n",
              "          3.46410162,   3.46410162,   3.60555128,   3.46410162,\n",
              "          3.60555128,   3.46410162,   2.64575131,   3.46410162,\n",
              "          3.        ,   4.        ,   7.28010989,   4.47213595,\n",
              "         13.03840481,   6.78232998,   6.08276253,   3.74165739,\n",
              "          2.64575131,   9.21954446,   4.69041576,   5.74456265,\n",
              "          3.16227766,   6.92820323,   3.46410162,   6.55743852,\n",
              "          4.        ,   9.64365076,   5.19615242,   3.60555128,\n",
              "          5.65685425,   2.44948974,   3.74165739,  10.53565375,\n",
              "          3.60555128,   2.82842712,   6.70820393,   3.16227766,\n",
              "          3.        ,  42.94182111,   3.16227766,   4.35889894,\n",
              "          5.38516481,   4.89897949,   9.74679434,  13.89244399,\n",
              "          3.31662479,   5.        ,   4.79583152,   4.12310563,\n",
              "         11.5758369 ,   5.65685425,  20.46948949,   4.24264069,\n",
              "          3.16227766,   5.        ,   2.82842712,   3.        ,\n",
              "          3.31662479,   5.47722558,   3.16227766,   3.87298335,\n",
              "          5.56776436,   5.65685425,   3.87298335,  25.78759392,\n",
              "          4.12310563,   3.31662479,   2.        ,   3.74165739,\n",
              "          2.64575131,   4.58257569,   3.        ,   3.46410162,\n",
              "          6.32455532,   2.23606798,   3.16227766,   2.44948974,\n",
              "          3.60555128,   3.74165739,   3.74165739,   3.46410162,\n",
              "          3.74165739,   2.82842712,   6.164414  ,   3.        ,\n",
              "          3.        ,   2.44948974,   3.16227766,  13.19090596,\n",
              "          2.44948974,   3.74165739,  11.61895004,   3.74165739,\n",
              "          3.60555128,   4.69041576,   3.16227766,   3.31662479,\n",
              "          5.38516481,   7.68114575,   5.91607978,   3.46410162,\n",
              "          3.74165739,   3.16227766,   3.31662479,   3.16227766,\n",
              "          6.8556546 ,   3.60555128,   3.74165739,   3.46410162,\n",
              "          3.46410162,   4.35889894,   3.16227766,   4.47213595,\n",
              "          3.16227766,   3.74165739,   5.09901951,   5.09901951,\n",
              "          3.60555128,   3.46410162,   8.30662386,   3.87298335,\n",
              "          4.69041576,   6.164414  ,   6.08276253,   2.64575131,\n",
              "          7.61577311,   3.31662479,   3.87298335,   4.12310563,\n",
              "         10.86278049,  23.23790008,   3.74165739,   1.73205081,\n",
              "         18.        ,   3.        ,  10.81665383,   7.61577311,\n",
              "          4.        ,   3.16227766,   4.        ,   3.46410162,\n",
              "          5.74456265,   9.89949494,   4.24264069,  35.94440151,\n",
              "          8.18535277,   3.31662479,   3.46410162,   3.16227766,\n",
              "          3.16227766,   4.69041576,   5.65685425,   3.87298335,\n",
              "          2.44948974,   3.46410162,   3.31662479,   3.46410162,\n",
              "          3.60555128,   2.82842712,   4.58257569,   5.74456265,\n",
              "          3.16227766,   3.60555128,   5.47722558,   8.48528137,\n",
              "         10.34408043,  11.04536102,   2.82842712,   3.46410162,\n",
              "          6.92820323,   3.31662479,  10.58300524,   4.24264069,\n",
              "          3.        ,   3.16227766,   3.46410162,   2.64575131,\n",
              "          5.09901951,   3.74165739,  12.72792206,  14.35270009,\n",
              "          5.09901951,   6.63324958,   3.16227766,   5.09901951,\n",
              "          4.35889894,  12.60952021,   3.46410162,   3.31662479,\n",
              "         12.16552506,   2.82842712,   2.44948974,   6.70820393,\n",
              "          5.83095189,   6.        ,  28.4956137 ,  24.81934729,\n",
              "          4.58257569,   3.74165739,   4.        ,   2.82842712,\n",
              "          2.82842712,   3.31662479,   8.48528137,   2.82842712,\n",
              "          2.        ,   3.87298335,  16.52271164,   5.56776436,\n",
              "          2.64575131,   5.09901951,   3.16227766,   6.4807407 ,\n",
              "          4.        ,   3.74165739,   5.09901951,   4.58257569,\n",
              "          3.31662479,   4.58257569]])"
            ]
          },
          "metadata": {},
          "execution_count": 30
        }
      ]
    },
    {
      "cell_type": "code",
      "source": [
        "av1_neg = np.sqrt(np.sum(np.square(Summary_U_neg), axis=1)) # square-root (sqrt)  - square value (square)\n",
        "av1_neg = av1_neg.reshape(1, -1)\n",
        "av1_neg"
      ],
      "metadata": {
        "colab": {
          "base_uri": "https://localhost:8080/"
        },
        "id": "EEc2DiksDK-f",
        "outputId": "0bfa7aa4-4e98-4c8e-9df4-015d5bb85115"
      },
      "execution_count": 31,
      "outputs": [
        {
          "output_type": "execute_result",
          "data": {
            "text/plain": [
              "array([[1.39925639e-14, 3.43251410e-15, 3.46410162e+00, 1.32670450e-15,\n",
              "        7.79823744e-16, 8.02979326e-16, 1.07566810e-15, 1.13308411e-15,\n",
              "        1.07401575e-15, 5.75900908e-16, 4.42272704e-16, 2.28140723e-16,\n",
              "        5.42152291e-17, 1.60763437e-16, 2.35828976e-16, 4.94234993e-16,\n",
              "        4.63097676e-16, 5.57709098e-17, 3.33600670e-17, 0.00000000e+00,\n",
              "        0.00000000e+00, 0.00000000e+00, 0.00000000e+00, 0.00000000e+00,\n",
              "        0.00000000e+00, 0.00000000e+00, 0.00000000e+00, 0.00000000e+00,\n",
              "        0.00000000e+00, 0.00000000e+00, 0.00000000e+00, 0.00000000e+00,\n",
              "        0.00000000e+00, 0.00000000e+00, 0.00000000e+00, 0.00000000e+00,\n",
              "        0.00000000e+00, 0.00000000e+00, 0.00000000e+00, 0.00000000e+00,\n",
              "        0.00000000e+00, 0.00000000e+00, 0.00000000e+00, 0.00000000e+00,\n",
              "        3.74165739e+00, 0.00000000e+00, 0.00000000e+00, 0.00000000e+00,\n",
              "        0.00000000e+00, 0.00000000e+00, 4.12310563e+00, 0.00000000e+00,\n",
              "        0.00000000e+00, 0.00000000e+00, 0.00000000e+00, 4.47213595e+00,\n",
              "        0.00000000e+00, 0.00000000e+00, 0.00000000e+00, 0.00000000e+00,\n",
              "        0.00000000e+00, 0.00000000e+00, 0.00000000e+00, 0.00000000e+00,\n",
              "        0.00000000e+00, 3.87298335e+00, 4.35889894e+00, 0.00000000e+00,\n",
              "        0.00000000e+00, 0.00000000e+00, 0.00000000e+00, 0.00000000e+00,\n",
              "        0.00000000e+00, 0.00000000e+00, 0.00000000e+00, 3.46410162e+00,\n",
              "        0.00000000e+00, 0.00000000e+00, 0.00000000e+00, 0.00000000e+00,\n",
              "        0.00000000e+00, 0.00000000e+00, 0.00000000e+00, 4.24264069e+00,\n",
              "        4.35889894e+00, 0.00000000e+00, 0.00000000e+00, 0.00000000e+00,\n",
              "        0.00000000e+00, 0.00000000e+00, 0.00000000e+00, 0.00000000e+00,\n",
              "        0.00000000e+00, 0.00000000e+00, 0.00000000e+00, 0.00000000e+00,\n",
              "        4.58257569e+00, 0.00000000e+00, 0.00000000e+00, 0.00000000e+00,\n",
              "        0.00000000e+00, 7.93725393e+00, 0.00000000e+00, 0.00000000e+00,\n",
              "        0.00000000e+00, 0.00000000e+00, 0.00000000e+00, 0.00000000e+00,\n",
              "        0.00000000e+00, 0.00000000e+00, 0.00000000e+00, 0.00000000e+00,\n",
              "        3.74165739e+00, 0.00000000e+00, 0.00000000e+00, 0.00000000e+00,\n",
              "        0.00000000e+00, 0.00000000e+00, 0.00000000e+00, 0.00000000e+00,\n",
              "        0.00000000e+00, 0.00000000e+00, 6.55743852e+00, 3.87298335e+00,\n",
              "        3.46410162e+00, 4.58257569e+00, 4.47213595e+00, 0.00000000e+00,\n",
              "        3.74165739e+00, 3.46410162e+00, 0.00000000e+00, 0.00000000e+00,\n",
              "        0.00000000e+00, 0.00000000e+00, 7.93725393e+00, 0.00000000e+00,\n",
              "        0.00000000e+00, 0.00000000e+00, 0.00000000e+00, 0.00000000e+00,\n",
              "        0.00000000e+00, 7.61577311e+00, 0.00000000e+00, 2.93257566e+01,\n",
              "        0.00000000e+00, 0.00000000e+00, 0.00000000e+00, 0.00000000e+00,\n",
              "        0.00000000e+00, 0.00000000e+00, 0.00000000e+00, 0.00000000e+00,\n",
              "        0.00000000e+00, 0.00000000e+00, 0.00000000e+00, 0.00000000e+00,\n",
              "        0.00000000e+00, 3.46410162e+00, 0.00000000e+00, 1.10453610e+01,\n",
              "        0.00000000e+00, 0.00000000e+00, 0.00000000e+00, 0.00000000e+00,\n",
              "        0.00000000e+00, 0.00000000e+00, 0.00000000e+00, 0.00000000e+00,\n",
              "        0.00000000e+00, 0.00000000e+00, 0.00000000e+00, 0.00000000e+00,\n",
              "        0.00000000e+00, 4.47213595e+00, 0.00000000e+00, 0.00000000e+00,\n",
              "        0.00000000e+00, 0.00000000e+00, 0.00000000e+00, 0.00000000e+00,\n",
              "        0.00000000e+00, 0.00000000e+00, 0.00000000e+00, 0.00000000e+00,\n",
              "        4.47213595e+00, 3.46410162e+00, 0.00000000e+00, 0.00000000e+00,\n",
              "        4.35889894e+00, 0.00000000e+00, 4.12310563e+00, 0.00000000e+00,\n",
              "        0.00000000e+00, 0.00000000e+00, 0.00000000e+00, 0.00000000e+00,\n",
              "        0.00000000e+00, 0.00000000e+00, 0.00000000e+00, 0.00000000e+00,\n",
              "        0.00000000e+00, 0.00000000e+00, 0.00000000e+00, 3.87298335e+00,\n",
              "        0.00000000e+00, 4.35889894e+00, 0.00000000e+00, 0.00000000e+00,\n",
              "        0.00000000e+00, 0.00000000e+00, 3.46410162e+00, 0.00000000e+00,\n",
              "        0.00000000e+00, 4.35889894e+00, 0.00000000e+00, 0.00000000e+00,\n",
              "        0.00000000e+00, 0.00000000e+00, 0.00000000e+00, 0.00000000e+00,\n",
              "        0.00000000e+00, 0.00000000e+00, 0.00000000e+00, 0.00000000e+00,\n",
              "        3.46410162e+00, 4.58257569e+00, 0.00000000e+00, 0.00000000e+00,\n",
              "        6.48074070e+00, 0.00000000e+00, 0.00000000e+00, 0.00000000e+00,\n",
              "        0.00000000e+00, 0.00000000e+00, 0.00000000e+00, 0.00000000e+00,\n",
              "        0.00000000e+00, 0.00000000e+00, 0.00000000e+00, 0.00000000e+00,\n",
              "        0.00000000e+00, 0.00000000e+00, 0.00000000e+00, 0.00000000e+00,\n",
              "        0.00000000e+00, 0.00000000e+00, 0.00000000e+00, 0.00000000e+00,\n",
              "        0.00000000e+00, 1.47309199e+01, 0.00000000e+00, 0.00000000e+00,\n",
              "        0.00000000e+00, 0.00000000e+00, 0.00000000e+00, 0.00000000e+00,\n",
              "        3.00000000e+00, 0.00000000e+00, 0.00000000e+00, 0.00000000e+00,\n",
              "        0.00000000e+00, 0.00000000e+00, 4.47213595e+00, 4.35889894e+00,\n",
              "        3.74165739e+00, 0.00000000e+00, 0.00000000e+00, 0.00000000e+00,\n",
              "        0.00000000e+00, 0.00000000e+00, 0.00000000e+00, 0.00000000e+00,\n",
              "        0.00000000e+00, 5.74456265e+00, 0.00000000e+00, 0.00000000e+00,\n",
              "        0.00000000e+00, 4.12310563e+00, 0.00000000e+00, 0.00000000e+00,\n",
              "        0.00000000e+00, 0.00000000e+00, 0.00000000e+00, 0.00000000e+00,\n",
              "        0.00000000e+00, 0.00000000e+00, 0.00000000e+00, 8.71779789e+00,\n",
              "        0.00000000e+00, 7.96743371e+01, 9.21954446e+00, 0.00000000e+00,\n",
              "        4.58257569e+00, 0.00000000e+00, 0.00000000e+00, 0.00000000e+00,\n",
              "        0.00000000e+00, 3.46410162e+00, 0.00000000e+00, 0.00000000e+00,\n",
              "        0.00000000e+00, 3.31662479e+00, 4.58257569e+00, 0.00000000e+00,\n",
              "        0.00000000e+00, 4.58257569e+00, 0.00000000e+00, 0.00000000e+00,\n",
              "        4.58257569e+00, 0.00000000e+00, 3.74165739e+00, 0.00000000e+00,\n",
              "        0.00000000e+00, 4.47213595e+00, 0.00000000e+00, 0.00000000e+00,\n",
              "        4.58257569e+00, 0.00000000e+00, 7.07106781e+00, 3.31662479e+00,\n",
              "        0.00000000e+00, 0.00000000e+00, 0.00000000e+00, 4.35889894e+00,\n",
              "        3.87298335e+00, 0.00000000e+00, 0.00000000e+00, 0.00000000e+00,\n",
              "        0.00000000e+00, 4.58257569e+00, 0.00000000e+00, 1.01980390e+01,\n",
              "        0.00000000e+00, 0.00000000e+00, 0.00000000e+00, 0.00000000e+00,\n",
              "        0.00000000e+00, 0.00000000e+00, 0.00000000e+00, 0.00000000e+00,\n",
              "        0.00000000e+00, 0.00000000e+00, 0.00000000e+00, 3.87298335e+00,\n",
              "        0.00000000e+00, 0.00000000e+00, 3.46410162e+00, 0.00000000e+00,\n",
              "        0.00000000e+00, 6.24499800e+00, 0.00000000e+00, 0.00000000e+00,\n",
              "        0.00000000e+00, 0.00000000e+00, 0.00000000e+00, 0.00000000e+00,\n",
              "        0.00000000e+00, 0.00000000e+00, 0.00000000e+00, 0.00000000e+00,\n",
              "        0.00000000e+00, 0.00000000e+00, 0.00000000e+00, 0.00000000e+00,\n",
              "        0.00000000e+00, 0.00000000e+00, 0.00000000e+00, 0.00000000e+00,\n",
              "        3.31662479e+00, 4.47213595e+00, 0.00000000e+00, 0.00000000e+00,\n",
              "        6.08276253e+00, 0.00000000e+00, 4.58257569e+00, 0.00000000e+00,\n",
              "        0.00000000e+00, 0.00000000e+00, 0.00000000e+00, 0.00000000e+00,\n",
              "        0.00000000e+00, 0.00000000e+00, 0.00000000e+00, 6.48074070e+00,\n",
              "        0.00000000e+00, 0.00000000e+00, 3.74165739e+00, 0.00000000e+00,\n",
              "        0.00000000e+00, 0.00000000e+00, 0.00000000e+00, 0.00000000e+00,\n",
              "        0.00000000e+00, 0.00000000e+00, 0.00000000e+00, 0.00000000e+00,\n",
              "        0.00000000e+00, 0.00000000e+00, 0.00000000e+00, 7.93725393e+00,\n",
              "        0.00000000e+00, 4.58257569e+00, 0.00000000e+00, 0.00000000e+00,\n",
              "        0.00000000e+00, 0.00000000e+00, 0.00000000e+00, 0.00000000e+00,\n",
              "        4.35889894e+00, 0.00000000e+00, 3.74165739e+00, 0.00000000e+00,\n",
              "        0.00000000e+00, 0.00000000e+00, 0.00000000e+00, 0.00000000e+00,\n",
              "        0.00000000e+00, 0.00000000e+00, 0.00000000e+00, 0.00000000e+00,\n",
              "        0.00000000e+00, 0.00000000e+00, 0.00000000e+00, 7.93725393e+00,\n",
              "        0.00000000e+00, 4.12310563e+00, 0.00000000e+00, 3.87298335e+00,\n",
              "        0.00000000e+00, 0.00000000e+00, 0.00000000e+00, 0.00000000e+00,\n",
              "        0.00000000e+00, 0.00000000e+00, 0.00000000e+00, 0.00000000e+00,\n",
              "        0.00000000e+00, 0.00000000e+00, 0.00000000e+00, 0.00000000e+00,\n",
              "        0.00000000e+00, 0.00000000e+00, 0.00000000e+00, 0.00000000e+00,\n",
              "        4.58257569e+00, 0.00000000e+00, 0.00000000e+00, 0.00000000e+00,\n",
              "        0.00000000e+00, 0.00000000e+00, 0.00000000e+00, 0.00000000e+00,\n",
              "        0.00000000e+00, 1.19582607e+01, 0.00000000e+00, 0.00000000e+00,\n",
              "        0.00000000e+00, 0.00000000e+00, 0.00000000e+00, 0.00000000e+00,\n",
              "        4.24264069e+00, 0.00000000e+00, 0.00000000e+00, 4.24264069e+00,\n",
              "        0.00000000e+00, 3.46410162e+00, 0.00000000e+00, 0.00000000e+00,\n",
              "        3.31662479e+00, 0.00000000e+00, 0.00000000e+00, 9.21954446e+00,\n",
              "        0.00000000e+00, 0.00000000e+00, 0.00000000e+00, 0.00000000e+00,\n",
              "        0.00000000e+00, 3.00000000e+00, 0.00000000e+00, 3.74165739e+00,\n",
              "        0.00000000e+00, 0.00000000e+00, 0.00000000e+00, 3.74165739e+00,\n",
              "        0.00000000e+00, 0.00000000e+00, 4.12310563e+00, 4.35889894e+00,\n",
              "        0.00000000e+00, 0.00000000e+00, 3.31662479e+00, 0.00000000e+00,\n",
              "        0.00000000e+00, 0.00000000e+00, 0.00000000e+00, 4.12310563e+00,\n",
              "        0.00000000e+00, 0.00000000e+00, 0.00000000e+00, 0.00000000e+00,\n",
              "        0.00000000e+00, 0.00000000e+00, 0.00000000e+00, 4.47213595e+00,\n",
              "        0.00000000e+00, 0.00000000e+00, 0.00000000e+00, 0.00000000e+00,\n",
              "        4.58257569e+00, 4.35889894e+00, 0.00000000e+00, 0.00000000e+00,\n",
              "        0.00000000e+00, 0.00000000e+00, 0.00000000e+00, 0.00000000e+00,\n",
              "        3.31662479e+00, 0.00000000e+00, 0.00000000e+00, 0.00000000e+00,\n",
              "        0.00000000e+00, 0.00000000e+00, 0.00000000e+00, 0.00000000e+00,\n",
              "        3.31662479e+00, 0.00000000e+00, 2.82842712e+00, 0.00000000e+00,\n",
              "        4.12310563e+00, 0.00000000e+00, 0.00000000e+00, 8.24621125e+00,\n",
              "        0.00000000e+00, 0.00000000e+00, 0.00000000e+00, 0.00000000e+00,\n",
              "        0.00000000e+00, 0.00000000e+00, 0.00000000e+00, 3.74165739e+00,\n",
              "        0.00000000e+00, 0.00000000e+00, 0.00000000e+00, 0.00000000e+00,\n",
              "        3.31662479e+00, 0.00000000e+00, 0.00000000e+00, 0.00000000e+00,\n",
              "        0.00000000e+00, 3.74165739e+00, 0.00000000e+00, 0.00000000e+00,\n",
              "        0.00000000e+00, 0.00000000e+00, 0.00000000e+00, 0.00000000e+00,\n",
              "        0.00000000e+00, 3.46410162e+00, 3.46410162e+00, 0.00000000e+00,\n",
              "        0.00000000e+00, 0.00000000e+00, 0.00000000e+00, 0.00000000e+00,\n",
              "        0.00000000e+00, 0.00000000e+00, 0.00000000e+00, 0.00000000e+00,\n",
              "        0.00000000e+00, 0.00000000e+00, 0.00000000e+00, 0.00000000e+00,\n",
              "        1.00000000e+01, 4.58257569e+00, 4.47213595e+00, 0.00000000e+00,\n",
              "        0.00000000e+00, 0.00000000e+00, 0.00000000e+00, 0.00000000e+00,\n",
              "        0.00000000e+00, 0.00000000e+00, 0.00000000e+00, 0.00000000e+00,\n",
              "        0.00000000e+00, 4.12310563e+00, 0.00000000e+00, 0.00000000e+00,\n",
              "        0.00000000e+00, 0.00000000e+00, 3.74165739e+00, 6.08276253e+00,\n",
              "        0.00000000e+00, 2.82842712e+00, 0.00000000e+00, 0.00000000e+00,\n",
              "        0.00000000e+00, 1.78044938e+01, 0.00000000e+00, 4.35889894e+00,\n",
              "        0.00000000e+00, 0.00000000e+00, 0.00000000e+00, 0.00000000e+00,\n",
              "        0.00000000e+00, 0.00000000e+00, 0.00000000e+00, 0.00000000e+00,\n",
              "        0.00000000e+00, 0.00000000e+00, 4.58257569e+00, 4.24264069e+00,\n",
              "        0.00000000e+00, 0.00000000e+00, 0.00000000e+00, 0.00000000e+00,\n",
              "        0.00000000e+00, 0.00000000e+00, 0.00000000e+00, 0.00000000e+00,\n",
              "        0.00000000e+00, 0.00000000e+00, 0.00000000e+00, 3.46410162e+00,\n",
              "        0.00000000e+00, 0.00000000e+00, 0.00000000e+00, 0.00000000e+00,\n",
              "        0.00000000e+00, 4.58257569e+00, 0.00000000e+00, 0.00000000e+00,\n",
              "        0.00000000e+00, 0.00000000e+00, 0.00000000e+00, 0.00000000e+00,\n",
              "        0.00000000e+00, 0.00000000e+00, 0.00000000e+00, 0.00000000e+00,\n",
              "        0.00000000e+00, 0.00000000e+00, 0.00000000e+00, 0.00000000e+00,\n",
              "        0.00000000e+00, 0.00000000e+00, 0.00000000e+00, 0.00000000e+00,\n",
              "        0.00000000e+00, 0.00000000e+00, 0.00000000e+00, 3.74165739e+00,\n",
              "        0.00000000e+00, 0.00000000e+00, 0.00000000e+00, 0.00000000e+00,\n",
              "        0.00000000e+00, 4.35889894e+00, 3.00000000e+00, 0.00000000e+00,\n",
              "        3.74165739e+00, 0.00000000e+00, 0.00000000e+00, 0.00000000e+00,\n",
              "        0.00000000e+00, 0.00000000e+00, 3.74165739e+00, 0.00000000e+00,\n",
              "        0.00000000e+00, 0.00000000e+00, 0.00000000e+00, 0.00000000e+00,\n",
              "        0.00000000e+00, 0.00000000e+00, 0.00000000e+00, 0.00000000e+00,\n",
              "        0.00000000e+00, 0.00000000e+00, 0.00000000e+00, 0.00000000e+00,\n",
              "        0.00000000e+00, 0.00000000e+00, 0.00000000e+00, 0.00000000e+00,\n",
              "        4.35889894e+00, 0.00000000e+00, 0.00000000e+00, 0.00000000e+00,\n",
              "        3.74165739e+00, 0.00000000e+00, 0.00000000e+00, 0.00000000e+00,\n",
              "        6.55743852e+00, 0.00000000e+00, 4.35889894e+00, 3.46410162e+00,\n",
              "        0.00000000e+00, 0.00000000e+00, 0.00000000e+00, 3.46410162e+00,\n",
              "        0.00000000e+00, 4.24264069e+00, 0.00000000e+00, 1.16619038e+01,\n",
              "        0.00000000e+00, 0.00000000e+00, 0.00000000e+00, 0.00000000e+00,\n",
              "        0.00000000e+00, 3.74165739e+00, 0.00000000e+00, 0.00000000e+00,\n",
              "        0.00000000e+00, 0.00000000e+00, 0.00000000e+00, 0.00000000e+00,\n",
              "        0.00000000e+00, 0.00000000e+00, 4.58257569e+00, 0.00000000e+00,\n",
              "        0.00000000e+00, 0.00000000e+00, 4.12310563e+00, 0.00000000e+00,\n",
              "        0.00000000e+00, 0.00000000e+00, 0.00000000e+00, 0.00000000e+00,\n",
              "        0.00000000e+00, 0.00000000e+00, 9.16515139e+00, 0.00000000e+00,\n",
              "        0.00000000e+00, 0.00000000e+00, 0.00000000e+00, 0.00000000e+00,\n",
              "        0.00000000e+00, 3.74165739e+00, 3.87298335e+00, 6.55743852e+00,\n",
              "        0.00000000e+00, 0.00000000e+00, 0.00000000e+00, 0.00000000e+00,\n",
              "        4.35889894e+00, 0.00000000e+00, 0.00000000e+00, 0.00000000e+00,\n",
              "        6.78232998e+00, 0.00000000e+00, 0.00000000e+00, 0.00000000e+00,\n",
              "        0.00000000e+00, 0.00000000e+00, 3.46410162e+00, 0.00000000e+00,\n",
              "        0.00000000e+00, 3.74165739e+00, 0.00000000e+00, 0.00000000e+00,\n",
              "        0.00000000e+00, 0.00000000e+00, 0.00000000e+00, 0.00000000e+00,\n",
              "        0.00000000e+00, 0.00000000e+00, 3.46410162e+00, 3.74165739e+00,\n",
              "        0.00000000e+00, 3.00000000e+00, 0.00000000e+00, 0.00000000e+00,\n",
              "        3.00000000e+00, 0.00000000e+00, 0.00000000e+00, 0.00000000e+00,\n",
              "        0.00000000e+00, 4.58257569e+00]])"
            ]
          },
          "metadata": {},
          "execution_count": 31
        }
      ]
    },
    {
      "cell_type": "code",
      "source": [
        "simi_neg = cosine_similarity (av_neg, av1_neg)\n",
        "simi_neg"
      ],
      "metadata": {
        "colab": {
          "base_uri": "https://localhost:8080/"
        },
        "id": "6CP8RI8SDPB-",
        "outputId": "94d94b8b-7379-4a41-a4eb-84440b4773b7"
      },
      "execution_count": 32,
      "outputs": [
        {
          "output_type": "execute_result",
          "data": {
            "text/plain": [
              "array([[0.77261848]])"
            ]
          },
          "metadata": {},
          "execution_count": 32
        }
      ]
    }
  ]
}